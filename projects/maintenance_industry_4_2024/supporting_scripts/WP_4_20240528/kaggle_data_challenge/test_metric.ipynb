{
 "cells": [
  {
   "cell_type": "code",
   "execution_count": 3,
   "metadata": {},
   "outputs": [],
   "source": [
    "\"\"\"\n",
    "Average F1 Score for the six motors.\n",
    "\"\"\"\n",
    "\n",
    "import pandas as pd\n",
    "import pandas.api.types\n",
    "from sklearn.metrics import f1_score\n",
    "\n",
    "\n",
    "class ParticipantVisibleError(Exception):\n",
    "    # If you want an error message to be shown to participants, you must raise the error as a ParticipantVisibleError\n",
    "    # All other errors will only be shown to the competition host. This helps prevent unintentional leakage of solution data.\n",
    "    pass\n",
    "\n",
    "\n",
    "def cal_classification_perf(y_true, y_pred):\n",
    "    ''' ### Description\n",
    "    This function calculates the classification performance: Accuracy, Precision, Recall and F1 score.\n",
    "    It considers different scenarios when divide by zero could occur for Precision, Recall and F1 score calculation.\n",
    "\n",
    "    ### Parameters:\n",
    "    - y_true: The true labels.\n",
    "    - y_pred: The predicted labels.\n",
    "\n",
    "    ### Return:\n",
    "    - accuracy: The accuracy.\n",
    "    - precision: The precision.\n",
    "    - recall: The recall.\n",
    "    - f1: The F1 score.\n",
    "    '''\n",
    "    # Only when y_pred contains no zeros, and y_true contains no zeros, set precision to be 1 when divide by zero occurs.\n",
    "    if sum(y_true)==0 and sum(y_pred)==0:\n",
    "        f1 = f1_score(y_true, y_pred, zero_division=1)\n",
    "    else:\n",
    "        f1 = f1_score(y_true, y_pred, zero_division=0)\n",
    "\n",
    "    return f1\n",
    "\n",
    "\n",
    "def score(solution: pd.DataFrame, submission: pd.DataFrame, row_id_column_name: str='idx') -> float:\n",
    "    '''\n",
    "    >>> import pandas as pd\n",
    "    >>> num_rows = 5\n",
    "    >>> data = {'idx': list(range(num_rows))}\n",
    "    >>> for i in range(1, 7):\n",
    "    >>> ...   column_name = f'data_motor_{i}_label'\n",
    "    >>> ...   data[column_name] = [1] * num_rows\n",
    "    >>> solution = pd.DataFrame(data)\n",
    "    >>> submission = solution\n",
    "    >>> score(solution.copy(), submission.copy())\n",
    "    1\n",
    "    '''\n",
    "\n",
    "    # TODO: You likely want to delete the row ID column, which Kaggle's system uses to align\n",
    "    # the solution and submission before passing these dataframes to score().\n",
    "    del solution[row_id_column_name]\n",
    "    del submission[row_id_column_name]\n",
    "\n",
    "    results = []\n",
    "\n",
    "    for i in range(6):\n",
    "        col_name = f'data_motor_{i+1}_label'\n",
    "        y_true = solution[col_name]\n",
    "        y_pred = submission[col_name]\n",
    "        result = cal_classification_perf(y_true, y_pred)\n",
    "        results.append(result)\n",
    "        \n",
    "    score_result = sum(results)/len(results)\n",
    "\n",
    "    return score_result\n"
   ]
  },
  {
   "cell_type": "code",
   "execution_count": 4,
   "metadata": {},
   "outputs": [
    {
     "data": {
      "text/plain": [
       "1.0"
      ]
     },
     "execution_count": 4,
     "metadata": {},
     "output_type": "execute_result"
    }
   ],
   "source": [
    "import pandas as pd\n",
    "\n",
    "num_rows = 5\n",
    "data = {'idx': list(range(num_rows))}\n",
    "for i in range(1, 7):\n",
    "    column_name = f'data_motor_{i}_label'\n",
    "    data[column_name] = [1] * num_rows\n",
    "    \n",
    "solution = pd.DataFrame(data)\n",
    "submission = solution\n",
    "score(solution.copy(), submission.copy())"
   ]
  },
  {
   "cell_type": "code",
   "execution_count": 5,
   "metadata": {},
   "outputs": [
    {
     "data": {
      "text/html": [
       "<div>\n",
       "<style scoped>\n",
       "    .dataframe tbody tr th:only-of-type {\n",
       "        vertical-align: middle;\n",
       "    }\n",
       "\n",
       "    .dataframe tbody tr th {\n",
       "        vertical-align: top;\n",
       "    }\n",
       "\n",
       "    .dataframe thead th {\n",
       "        text-align: right;\n",
       "    }\n",
       "</style>\n",
       "<table border=\"1\" class=\"dataframe\">\n",
       "  <thead>\n",
       "    <tr style=\"text-align: right;\">\n",
       "      <th></th>\n",
       "      <th>idx</th>\n",
       "      <th>data_motor_1_label</th>\n",
       "      <th>data_motor_2_label</th>\n",
       "      <th>data_motor_3_label</th>\n",
       "      <th>data_motor_4_label</th>\n",
       "      <th>data_motor_5_label</th>\n",
       "      <th>data_motor_6_label</th>\n",
       "    </tr>\n",
       "  </thead>\n",
       "  <tbody>\n",
       "    <tr>\n",
       "      <th>0</th>\n",
       "      <td>0</td>\n",
       "      <td>1</td>\n",
       "      <td>1</td>\n",
       "      <td>1</td>\n",
       "      <td>1</td>\n",
       "      <td>1</td>\n",
       "      <td>1</td>\n",
       "    </tr>\n",
       "    <tr>\n",
       "      <th>1</th>\n",
       "      <td>1</td>\n",
       "      <td>1</td>\n",
       "      <td>1</td>\n",
       "      <td>1</td>\n",
       "      <td>1</td>\n",
       "      <td>1</td>\n",
       "      <td>1</td>\n",
       "    </tr>\n",
       "    <tr>\n",
       "      <th>2</th>\n",
       "      <td>2</td>\n",
       "      <td>1</td>\n",
       "      <td>1</td>\n",
       "      <td>1</td>\n",
       "      <td>1</td>\n",
       "      <td>1</td>\n",
       "      <td>1</td>\n",
       "    </tr>\n",
       "    <tr>\n",
       "      <th>3</th>\n",
       "      <td>3</td>\n",
       "      <td>1</td>\n",
       "      <td>1</td>\n",
       "      <td>1</td>\n",
       "      <td>1</td>\n",
       "      <td>1</td>\n",
       "      <td>1</td>\n",
       "    </tr>\n",
       "    <tr>\n",
       "      <th>4</th>\n",
       "      <td>4</td>\n",
       "      <td>1</td>\n",
       "      <td>1</td>\n",
       "      <td>1</td>\n",
       "      <td>1</td>\n",
       "      <td>1</td>\n",
       "      <td>1</td>\n",
       "    </tr>\n",
       "  </tbody>\n",
       "</table>\n",
       "</div>"
      ],
      "text/plain": [
       "   idx  data_motor_1_label  data_motor_2_label  data_motor_3_label  \\\n",
       "0    0                   1                   1                   1   \n",
       "1    1                   1                   1                   1   \n",
       "2    2                   1                   1                   1   \n",
       "3    3                   1                   1                   1   \n",
       "4    4                   1                   1                   1   \n",
       "\n",
       "   data_motor_4_label  data_motor_5_label  data_motor_6_label  \n",
       "0                   1                   1                   1  \n",
       "1                   1                   1                   1  \n",
       "2                   1                   1                   1  \n",
       "3                   1                   1                   1  \n",
       "4                   1                   1                   1  "
      ]
     },
     "execution_count": 5,
     "metadata": {},
     "output_type": "execute_result"
    }
   ],
   "source": [
    "solution"
   ]
  },
  {
   "cell_type": "code",
   "execution_count": 6,
   "metadata": {},
   "outputs": [
    {
     "data": {
      "text/plain": [
       "[1, 1, 1, 1, 1]"
      ]
     },
     "execution_count": 6,
     "metadata": {},
     "output_type": "execute_result"
    }
   ],
   "source": [
    "data[column_name]"
   ]
  }
 ],
 "metadata": {
  "kernelspec": {
   "display_name": ".venv",
   "language": "python",
   "name": "python3"
  },
  "language_info": {
   "codemirror_mode": {
    "name": "ipython",
    "version": 3
   },
   "file_extension": ".py",
   "mimetype": "text/x-python",
   "name": "python",
   "nbconvert_exporter": "python",
   "pygments_lexer": "ipython3",
   "version": "3.11.7"
  }
 },
 "nbformat": 4,
 "nbformat_minor": 2
}
